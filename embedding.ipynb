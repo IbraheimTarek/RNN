{
 "cells": [
  {
   "cell_type": "code",
   "execution_count": 103,
   "metadata": {},
   "outputs": [],
   "source": [
    "from tensorflow.keras.preprocessing.text import one_hot"
   ]
  },
  {
   "cell_type": "code",
   "execution_count": 104,
   "metadata": {},
   "outputs": [],
   "source": [
    "sent=[\n",
    "    'I love milk',\n",
    "    'She went to school this morning',\n",
    "    'the cup of tea is very hot',\n",
    "    'And his name is John Cena'\n",
    "]"
   ]
  },
  {
   "cell_type": "code",
   "execution_count": 105,
   "metadata": {},
   "outputs": [],
   "source": [
    "voc_size = 10000"
   ]
  },
  {
   "cell_type": "code",
   "execution_count": 106,
   "metadata": {},
   "outputs": [
    {
     "data": {
      "text/plain": [
       "[[2071, 1350, 6131],\n",
       " [9229, 4939, 4935, 367, 9642, 9128],\n",
       " [8535, 4699, 7681, 3385, 6073, 877, 4680],\n",
       " [9884, 1889, 1718, 6073, 3200, 3716]]"
      ]
     },
     "execution_count": 106,
     "metadata": {},
     "output_type": "execute_result"
    }
   ],
   "source": [
    "one_hot_rep = [one_hot(word,voc_size) for word in sent]\n",
    "one_hot_rep"
   ]
  },
  {
   "cell_type": "code",
   "execution_count": 107,
   "metadata": {},
   "outputs": [],
   "source": [
    "from tensorflow.keras.layers import Embedding\n",
    "from tensorflow.keras.utils import pad_sequences\n",
    "from tensorflow.keras.models import Sequential"
   ]
  },
  {
   "cell_type": "code",
   "execution_count": 108,
   "metadata": {},
   "outputs": [
    {
     "data": {
      "text/plain": [
       "array([[   0,    0,    0,    0,    0, 2071, 1350, 6131],\n",
       "       [   0,    0, 9229, 4939, 4935,  367, 9642, 9128],\n",
       "       [   0, 8535, 4699, 7681, 3385, 6073,  877, 4680],\n",
       "       [   0,    0, 9884, 1889, 1718, 6073, 3200, 3716]])"
      ]
     },
     "execution_count": 108,
     "metadata": {},
     "output_type": "execute_result"
    }
   ],
   "source": [
    "import numpy as np\n",
    "sent_len = 8\n",
    "embedded_docs = pad_sequences(one_hot_rep, padding='pre', maxlen=sent_len)\n",
    "embedded_docs"
   ]
  },
  {
   "cell_type": "code",
   "execution_count": 109,
   "metadata": {},
   "outputs": [],
   "source": [
    "dim=10\n",
    "model=Sequential()\n",
    "model.add(Embedding(voc_size, dim, input_length=sent_len))\n",
    "model.compile('adam','mse')"
   ]
  },
  {
   "cell_type": "code",
   "execution_count": 110,
   "metadata": {},
   "outputs": [
    {
     "data": {
      "text/html": [
       "<pre style=\"white-space:pre;overflow-x:auto;line-height:normal;font-family:Menlo,'DejaVu Sans Mono',consolas,'Courier New',monospace\"><span style=\"font-weight: bold\">Model: \"sequential_12\"</span>\n",
       "</pre>\n"
      ],
      "text/plain": [
       "\u001b[1mModel: \"sequential_12\"\u001b[0m\n"
      ]
     },
     "metadata": {},
     "output_type": "display_data"
    },
    {
     "data": {
      "text/html": [
       "<pre style=\"white-space:pre;overflow-x:auto;line-height:normal;font-family:Menlo,'DejaVu Sans Mono',consolas,'Courier New',monospace\">┏━━━━━━━━━━━━━━━━━━━━━━━━━━━━━━━━━┳━━━━━━━━━━━━━━━━━━━━━━━━┳━━━━━━━━━━━━━━━┓\n",
       "┃<span style=\"font-weight: bold\"> Layer (type)                    </span>┃<span style=\"font-weight: bold\"> Output Shape           </span>┃<span style=\"font-weight: bold\">       Param # </span>┃\n",
       "┡━━━━━━━━━━━━━━━━━━━━━━━━━━━━━━━━━╇━━━━━━━━━━━━━━━━━━━━━━━━╇━━━━━━━━━━━━━━━┩\n",
       "│ embedding_5 (<span style=\"color: #0087ff; text-decoration-color: #0087ff\">Embedding</span>)         │ ?                      │   <span style=\"color: #00af00; text-decoration-color: #00af00\">0</span> (unbuilt) │\n",
       "└─────────────────────────────────┴────────────────────────┴───────────────┘\n",
       "</pre>\n"
      ],
      "text/plain": [
       "┏━━━━━━━━━━━━━━━━━━━━━━━━━━━━━━━━━┳━━━━━━━━━━━━━━━━━━━━━━━━┳━━━━━━━━━━━━━━━┓\n",
       "┃\u001b[1m \u001b[0m\u001b[1mLayer (type)                   \u001b[0m\u001b[1m \u001b[0m┃\u001b[1m \u001b[0m\u001b[1mOutput Shape          \u001b[0m\u001b[1m \u001b[0m┃\u001b[1m \u001b[0m\u001b[1m      Param #\u001b[0m\u001b[1m \u001b[0m┃\n",
       "┡━━━━━━━━━━━━━━━━━━━━━━━━━━━━━━━━━╇━━━━━━━━━━━━━━━━━━━━━━━━╇━━━━━━━━━━━━━━━┩\n",
       "│ embedding_5 (\u001b[38;5;33mEmbedding\u001b[0m)         │ ?                      │   \u001b[38;5;34m0\u001b[0m (unbuilt) │\n",
       "└─────────────────────────────────┴────────────────────────┴───────────────┘\n"
      ]
     },
     "metadata": {},
     "output_type": "display_data"
    },
    {
     "data": {
      "text/html": [
       "<pre style=\"white-space:pre;overflow-x:auto;line-height:normal;font-family:Menlo,'DejaVu Sans Mono',consolas,'Courier New',monospace\"><span style=\"font-weight: bold\"> Total params: </span><span style=\"color: #00af00; text-decoration-color: #00af00\">0</span> (0.00 B)\n",
       "</pre>\n"
      ],
      "text/plain": [
       "\u001b[1m Total params: \u001b[0m\u001b[38;5;34m0\u001b[0m (0.00 B)\n"
      ]
     },
     "metadata": {},
     "output_type": "display_data"
    },
    {
     "data": {
      "text/html": [
       "<pre style=\"white-space:pre;overflow-x:auto;line-height:normal;font-family:Menlo,'DejaVu Sans Mono',consolas,'Courier New',monospace\"><span style=\"font-weight: bold\"> Trainable params: </span><span style=\"color: #00af00; text-decoration-color: #00af00\">0</span> (0.00 B)\n",
       "</pre>\n"
      ],
      "text/plain": [
       "\u001b[1m Trainable params: \u001b[0m\u001b[38;5;34m0\u001b[0m (0.00 B)\n"
      ]
     },
     "metadata": {},
     "output_type": "display_data"
    },
    {
     "data": {
      "text/html": [
       "<pre style=\"white-space:pre;overflow-x:auto;line-height:normal;font-family:Menlo,'DejaVu Sans Mono',consolas,'Courier New',monospace\"><span style=\"font-weight: bold\"> Non-trainable params: </span><span style=\"color: #00af00; text-decoration-color: #00af00\">0</span> (0.00 B)\n",
       "</pre>\n"
      ],
      "text/plain": [
       "\u001b[1m Non-trainable params: \u001b[0m\u001b[38;5;34m0\u001b[0m (0.00 B)\n"
      ]
     },
     "metadata": {},
     "output_type": "display_data"
    }
   ],
   "source": [
    "model.summary()"
   ]
  },
  {
   "cell_type": "code",
   "execution_count": 111,
   "metadata": {},
   "outputs": [
    {
     "name": "stdout",
     "output_type": "stream",
     "text": [
      "WARNING:tensorflow:5 out of the last 5 calls to <function TensorFlowTrainer.make_predict_function.<locals>.one_step_on_data_distributed at 0x000001F6D5AA6700> triggered tf.function retracing. Tracing is expensive and the excessive number of tracings could be due to (1) creating @tf.function repeatedly in a loop, (2) passing tensors with different shapes, (3) passing Python objects instead of tensors. For (1), please define your @tf.function outside of the loop. For (2), @tf.function has reduce_retracing=True option that can avoid unnecessary retracing. For (3), please refer to https://www.tensorflow.org/guide/function#controlling_retracing and https://www.tensorflow.org/api_docs/python/tf/function for  more details.\n",
      "\u001b[1m1/1\u001b[0m \u001b[32m━━━━━━━━━━━━━━━━━━━━\u001b[0m\u001b[37m\u001b[0m \u001b[1m0s\u001b[0m 95ms/step\n"
     ]
    },
    {
     "data": {
      "text/plain": [
       "array([[[ 0.02962669,  0.04091403,  0.02022472, -0.04360783,\n",
       "          0.03314045,  0.01688043, -0.03917529,  0.04326056,\n",
       "         -0.0186401 ,  0.03035331],\n",
       "        [ 0.02962669,  0.04091403,  0.02022472, -0.04360783,\n",
       "          0.03314045,  0.01688043, -0.03917529,  0.04326056,\n",
       "         -0.0186401 ,  0.03035331],\n",
       "        [ 0.02962669,  0.04091403,  0.02022472, -0.04360783,\n",
       "          0.03314045,  0.01688043, -0.03917529,  0.04326056,\n",
       "         -0.0186401 ,  0.03035331],\n",
       "        [ 0.02962669,  0.04091403,  0.02022472, -0.04360783,\n",
       "          0.03314045,  0.01688043, -0.03917529,  0.04326056,\n",
       "         -0.0186401 ,  0.03035331],\n",
       "        [ 0.02962669,  0.04091403,  0.02022472, -0.04360783,\n",
       "          0.03314045,  0.01688043, -0.03917529,  0.04326056,\n",
       "         -0.0186401 ,  0.03035331],\n",
       "        [-0.00390758,  0.00705834,  0.00954109,  0.02910978,\n",
       "         -0.00827668, -0.03501459,  0.03750772, -0.00218434,\n",
       "          0.00836345,  0.01860623],\n",
       "        [ 0.04935655,  0.02496606,  0.04944099,  0.04816506,\n",
       "          0.02615699,  0.01392181,  0.02741669, -0.02705455,\n",
       "          0.03820666, -0.03047649],\n",
       "        [-0.02761316,  0.01928126, -0.04453552,  0.02206839,\n",
       "         -0.03619666,  0.00539779,  0.00175977, -0.00742532,\n",
       "         -0.00189384,  0.0282268 ]],\n",
       "\n",
       "       [[ 0.02962669,  0.04091403,  0.02022472, -0.04360783,\n",
       "          0.03314045,  0.01688043, -0.03917529,  0.04326056,\n",
       "         -0.0186401 ,  0.03035331],\n",
       "        [ 0.02962669,  0.04091403,  0.02022472, -0.04360783,\n",
       "          0.03314045,  0.01688043, -0.03917529,  0.04326056,\n",
       "         -0.0186401 ,  0.03035331],\n",
       "        [-0.0122922 , -0.02045383,  0.02107887,  0.03500925,\n",
       "         -0.03412531, -0.03472412, -0.01873647, -0.03450658,\n",
       "         -0.03174863,  0.03320417],\n",
       "        [-0.03987567,  0.04076863, -0.02557009, -0.03407854,\n",
       "         -0.03374765,  0.03641603, -0.04668872,  0.04972667,\n",
       "          0.01389805,  0.029641  ],\n",
       "        [-0.01608089,  0.00510772, -0.02086319,  0.03649804,\n",
       "          0.03503719,  0.03324748, -0.008506  ,  0.02938378,\n",
       "         -0.01670858, -0.01203422],\n",
       "        [ 0.03044889,  0.00420934, -0.02520537, -0.00234885,\n",
       "          0.0137514 ,  0.03603891, -0.02102021, -0.01817364,\n",
       "         -0.04482138, -0.00819708],\n",
       "        [ 0.00550108,  0.00627525,  0.03375771, -0.01967633,\n",
       "          0.02000394, -0.04955682, -0.01317241,  0.00588627,\n",
       "          0.04261963,  0.00102061],\n",
       "        [ 0.03178642, -0.01716056,  0.02154546, -0.04809157,\n",
       "          0.01710925, -0.04364968,  0.00021191, -0.03485098,\n",
       "          0.02781602,  0.02137536]],\n",
       "\n",
       "       [[ 0.02962669,  0.04091403,  0.02022472, -0.04360783,\n",
       "          0.03314045,  0.01688043, -0.03917529,  0.04326056,\n",
       "         -0.0186401 ,  0.03035331],\n",
       "        [ 0.04624045, -0.03336561, -0.03718003,  0.00685538,\n",
       "         -0.01570816,  0.04357879, -0.04672303,  0.04924629,\n",
       "          0.01340416, -0.02459913],\n",
       "        [ 0.01533749,  0.02099382,  0.0022708 , -0.04703487,\n",
       "         -0.01794308, -0.02396455,  0.00575225,  0.01730256,\n",
       "         -0.00773351, -0.04652884],\n",
       "        [ 0.04412676, -0.01706887,  0.04762007,  0.04142569,\n",
       "          0.04333663,  0.03068102,  0.02614475, -0.04335497,\n",
       "          0.02865106, -0.03817551],\n",
       "        [ 0.01300217, -0.01781531, -0.01628267,  0.02878198,\n",
       "         -0.02912153,  0.00089874,  0.00701387, -0.01011612,\n",
       "         -0.02805208,  0.00463675],\n",
       "        [ 0.01807359, -0.04633015,  0.0369358 , -0.03229916,\n",
       "          0.01347976, -0.03191056,  0.00629631,  0.0065938 ,\n",
       "         -0.00591034,  0.02443073],\n",
       "        [ 0.03212075,  0.00937686, -0.00503415,  0.04429633,\n",
       "         -0.00842285,  0.01127537, -0.00804716, -0.04022844,\n",
       "         -0.01531862, -0.00478445],\n",
       "        [-0.03345822,  0.01400096, -0.04265479, -0.02352759,\n",
       "          0.03636191, -0.01968209, -0.00121247, -0.03167295,\n",
       "          0.00067061,  0.02522388]],\n",
       "\n",
       "       [[ 0.02962669,  0.04091403,  0.02022472, -0.04360783,\n",
       "          0.03314045,  0.01688043, -0.03917529,  0.04326056,\n",
       "         -0.0186401 ,  0.03035331],\n",
       "        [ 0.02962669,  0.04091403,  0.02022472, -0.04360783,\n",
       "          0.03314045,  0.01688043, -0.03917529,  0.04326056,\n",
       "         -0.0186401 ,  0.03035331],\n",
       "        [ 0.03636326, -0.0120808 ,  0.03001029,  0.02075023,\n",
       "          0.00264671, -0.04252725,  0.03126996,  0.00801855,\n",
       "          0.04044137, -0.02456031],\n",
       "        [-0.04480561, -0.03381296, -0.04535508,  0.0017918 ,\n",
       "          0.03159905,  0.00931877,  0.0265179 , -0.04947822,\n",
       "          0.02436281,  0.01852055],\n",
       "        [-0.03152462,  0.00551059,  0.02273289, -0.02144316,\n",
       "         -0.00916921,  0.02663915,  0.04220719, -0.03955908,\n",
       "          0.02654178, -0.03193003],\n",
       "        [ 0.01807359, -0.04633015,  0.0369358 , -0.03229916,\n",
       "          0.01347976, -0.03191056,  0.00629631,  0.0065938 ,\n",
       "         -0.00591034,  0.02443073],\n",
       "        [-0.02632316, -0.00041848,  0.0050553 , -0.02495395,\n",
       "          0.01042933, -0.02805648, -0.04956137, -0.00481629,\n",
       "          0.04649543, -0.04092232],\n",
       "        [-0.0144989 ,  0.00891824,  0.00579679, -0.03400196,\n",
       "         -0.02390052, -0.03432792,  0.0150422 ,  0.03863826,\n",
       "         -0.02372256,  0.00326188]]], dtype=float32)"
      ]
     },
     "execution_count": 111,
     "metadata": {},
     "output_type": "execute_result"
    }
   ],
   "source": [
    "model.predict(embedded_docs)"
   ]
  },
  {
   "cell_type": "code",
   "execution_count": 115,
   "metadata": {},
   "outputs": [
    {
     "data": {
      "text/plain": [
       "array([[   0,    0,    0,    0,    0, 2071, 1350, 6131]])"
      ]
     },
     "execution_count": 115,
     "metadata": {},
     "output_type": "execute_result"
    }
   ],
   "source": [
    "single_sequence = np.array([embedded_docs[0]])\n",
    "single_sequence"
   ]
  },
  {
   "cell_type": "code",
   "execution_count": 116,
   "metadata": {},
   "outputs": [
    {
     "name": "stdout",
     "output_type": "stream",
     "text": [
      "WARNING:tensorflow:6 out of the last 6 calls to <function TensorFlowTrainer.make_predict_function.<locals>.one_step_on_data_distributed at 0x000001F6D5AA6700> triggered tf.function retracing. Tracing is expensive and the excessive number of tracings could be due to (1) creating @tf.function repeatedly in a loop, (2) passing tensors with different shapes, (3) passing Python objects instead of tensors. For (1), please define your @tf.function outside of the loop. For (2), @tf.function has reduce_retracing=True option that can avoid unnecessary retracing. For (3), please refer to https://www.tensorflow.org/guide/function#controlling_retracing and https://www.tensorflow.org/api_docs/python/tf/function for  more details.\n",
      "\u001b[1m1/1\u001b[0m \u001b[32m━━━━━━━━━━━━━━━━━━━━\u001b[0m\u001b[37m\u001b[0m \u001b[1m0s\u001b[0m 38ms/step\n"
     ]
    },
    {
     "data": {
      "text/plain": [
       "array([[[ 0.02962669,  0.04091403,  0.02022472, -0.04360783,\n",
       "          0.03314045,  0.01688043, -0.03917529,  0.04326056,\n",
       "         -0.0186401 ,  0.03035331],\n",
       "        [ 0.02962669,  0.04091403,  0.02022472, -0.04360783,\n",
       "          0.03314045,  0.01688043, -0.03917529,  0.04326056,\n",
       "         -0.0186401 ,  0.03035331],\n",
       "        [ 0.02962669,  0.04091403,  0.02022472, -0.04360783,\n",
       "          0.03314045,  0.01688043, -0.03917529,  0.04326056,\n",
       "         -0.0186401 ,  0.03035331],\n",
       "        [ 0.02962669,  0.04091403,  0.02022472, -0.04360783,\n",
       "          0.03314045,  0.01688043, -0.03917529,  0.04326056,\n",
       "         -0.0186401 ,  0.03035331],\n",
       "        [ 0.02962669,  0.04091403,  0.02022472, -0.04360783,\n",
       "          0.03314045,  0.01688043, -0.03917529,  0.04326056,\n",
       "         -0.0186401 ,  0.03035331],\n",
       "        [-0.00390758,  0.00705834,  0.00954109,  0.02910978,\n",
       "         -0.00827668, -0.03501459,  0.03750772, -0.00218434,\n",
       "          0.00836345,  0.01860623],\n",
       "        [ 0.04935655,  0.02496606,  0.04944099,  0.04816506,\n",
       "          0.02615699,  0.01392181,  0.02741669, -0.02705455,\n",
       "          0.03820666, -0.03047649],\n",
       "        [-0.02761316,  0.01928126, -0.04453552,  0.02206839,\n",
       "         -0.03619666,  0.00539779,  0.00175977, -0.00742532,\n",
       "         -0.00189384,  0.0282268 ]]], dtype=float32)"
      ]
     },
     "execution_count": 116,
     "metadata": {},
     "output_type": "execute_result"
    }
   ],
   "source": [
    "model.predict(single_sequence)"
   ]
  }
 ],
 "metadata": {
  "kernelspec": {
   "display_name": "base",
   "language": "python",
   "name": "python3"
  },
  "language_info": {
   "codemirror_mode": {
    "name": "ipython",
    "version": 3
   },
   "file_extension": ".py",
   "mimetype": "text/x-python",
   "name": "python",
   "nbconvert_exporter": "python",
   "pygments_lexer": "ipython3",
   "version": "3.11.5"
  }
 },
 "nbformat": 4,
 "nbformat_minor": 2
}
